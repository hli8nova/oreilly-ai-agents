{
 "cells": [
  {
   "cell_type": "code",
   "execution_count": 1,
   "id": "d6e96aa4-e682-4ba0-919f-05594d427638",
   "metadata": {
    "collapsed": true,
    "jupyter": {
     "outputs_hidden": true
    },
    "tags": []
   },
   "outputs": [
    {
     "name": "stdout",
     "output_type": "stream",
     "text": [
      "Requirement already satisfied: openai in /home/will/miniconda3/envs/pyopenai/lib/python3.8/site-packages (1.61.1)\n",
      "Requirement already satisfied: langchain in /home/will/miniconda3/envs/pyopenai/lib/python3.8/site-packages (0.2.17)\n",
      "Requirement already satisfied: python-dotenv in /home/will/miniconda3/envs/pyopenai/lib/python3.8/site-packages (1.0.0)\n",
      "Requirement already satisfied: jiter<1,>=0.4.0 in /home/will/miniconda3/envs/pyopenai/lib/python3.8/site-packages (from openai) (0.8.2)\n",
      "Requirement already satisfied: httpx<1,>=0.23.0 in /home/will/miniconda3/envs/pyopenai/lib/python3.8/site-packages (from openai) (0.23.3)\n",
      "Requirement already satisfied: pydantic<3,>=1.9.0 in /home/will/miniconda3/envs/pyopenai/lib/python3.8/site-packages (from openai) (1.10.7)\n",
      "Requirement already satisfied: sniffio in /home/will/miniconda3/envs/pyopenai/lib/python3.8/site-packages (from openai) (1.2.0)\n",
      "Requirement already satisfied: tqdm>4 in /home/will/miniconda3/envs/pyopenai/lib/python3.8/site-packages (from openai) (4.65.0)\n",
      "Requirement already satisfied: distro<2,>=1.7.0 in /home/will/miniconda3/envs/pyopenai/lib/python3.8/site-packages (from openai) (1.9.0)\n",
      "Requirement already satisfied: typing-extensions<5,>=4.11 in /home/will/miniconda3/envs/pyopenai/lib/python3.8/site-packages (from openai) (4.12.2)\n",
      "Requirement already satisfied: anyio<5,>=3.5.0 in /home/will/miniconda3/envs/pyopenai/lib/python3.8/site-packages (from openai) (3.5.0)\n",
      "Requirement already satisfied: langsmith<0.2.0,>=0.1.17 in /home/will/miniconda3/envs/pyopenai/lib/python3.8/site-packages (from langchain) (0.1.147)\n",
      "Requirement already satisfied: aiohttp<4.0.0,>=3.8.3 in /home/will/miniconda3/envs/pyopenai/lib/python3.8/site-packages (from langchain) (3.8.4)\n",
      "Requirement already satisfied: requests<3,>=2 in /home/will/miniconda3/envs/pyopenai/lib/python3.8/site-packages (from langchain) (2.30.0)\n",
      "Requirement already satisfied: langchain-core<0.3.0,>=0.2.43 in /home/will/miniconda3/envs/pyopenai/lib/python3.8/site-packages (from langchain) (0.2.43)\n",
      "Requirement already satisfied: async-timeout<5.0.0,>=4.0.0 in /home/will/miniconda3/envs/pyopenai/lib/python3.8/site-packages (from langchain) (4.0.2)\n",
      "Requirement already satisfied: SQLAlchemy<3,>=1.4 in /home/will/miniconda3/envs/pyopenai/lib/python3.8/site-packages (from langchain) (2.0.13)\n",
      "Requirement already satisfied: langchain-text-splitters<0.3.0,>=0.2.0 in /home/will/miniconda3/envs/pyopenai/lib/python3.8/site-packages (from langchain) (0.2.4)\n",
      "Requirement already satisfied: PyYAML>=5.3 in /home/will/miniconda3/envs/pyopenai/lib/python3.8/site-packages (from langchain) (6.0)\n",
      "Requirement already satisfied: tenacity!=8.4.0,<9.0.0,>=8.1.0 in /home/will/miniconda3/envs/pyopenai/lib/python3.8/site-packages (from langchain) (8.2.2)\n",
      "Requirement already satisfied: numpy<2,>=1 in /home/will/miniconda3/envs/pyopenai/lib/python3.8/site-packages (from langchain) (1.22.3)\n",
      "Requirement already satisfied: multidict<7.0,>=4.5 in /home/will/miniconda3/envs/pyopenai/lib/python3.8/site-packages (from aiohttp<4.0.0,>=3.8.3->langchain) (6.0.4)\n",
      "Requirement already satisfied: yarl<2.0,>=1.0 in /home/will/miniconda3/envs/pyopenai/lib/python3.8/site-packages (from aiohttp<4.0.0,>=3.8.3->langchain) (1.9.2)\n",
      "Requirement already satisfied: frozenlist>=1.1.1 in /home/will/miniconda3/envs/pyopenai/lib/python3.8/site-packages (from aiohttp<4.0.0,>=3.8.3->langchain) (1.3.3)\n",
      "Requirement already satisfied: charset-normalizer<4.0,>=2.0 in /home/will/miniconda3/envs/pyopenai/lib/python3.8/site-packages (from aiohttp<4.0.0,>=3.8.3->langchain) (2.0.4)\n",
      "Requirement already satisfied: attrs>=17.3.0 in /home/will/miniconda3/envs/pyopenai/lib/python3.8/site-packages (from aiohttp<4.0.0,>=3.8.3->langchain) (21.4.0)\n",
      "Requirement already satisfied: aiosignal>=1.1.2 in /home/will/miniconda3/envs/pyopenai/lib/python3.8/site-packages (from aiohttp<4.0.0,>=3.8.3->langchain) (1.3.1)\n",
      "Requirement already satisfied: idna>=2.8 in /home/will/miniconda3/envs/pyopenai/lib/python3.8/site-packages (from anyio<5,>=3.5.0->openai) (3.3)\n",
      "Requirement already satisfied: rfc3986[idna2008]<2,>=1.3 in /home/will/miniconda3/envs/pyopenai/lib/python3.8/site-packages (from httpx<1,>=0.23.0->openai) (1.5.0)\n",
      "Requirement already satisfied: certifi in /home/will/miniconda3/envs/pyopenai/lib/python3.8/site-packages (from httpx<1,>=0.23.0->openai) (2023.5.7)\n",
      "Requirement already satisfied: httpcore<0.17.0,>=0.15.0 in /home/will/miniconda3/envs/pyopenai/lib/python3.8/site-packages (from httpx<1,>=0.23.0->openai) (0.16.3)\n",
      "Requirement already satisfied: h11<0.15,>=0.13 in /home/will/miniconda3/envs/pyopenai/lib/python3.8/site-packages (from httpcore<0.17.0,>=0.15.0->httpx<1,>=0.23.0->openai) (0.14.0)\n",
      "Requirement already satisfied: packaging<25,>=23.2 in /home/will/miniconda3/envs/pyopenai/lib/python3.8/site-packages (from langchain-core<0.3.0,>=0.2.43->langchain) (24.2)\n",
      "Requirement already satisfied: jsonpatch<2.0,>=1.33 in /home/will/miniconda3/envs/pyopenai/lib/python3.8/site-packages (from langchain-core<0.3.0,>=0.2.43->langchain) (1.33)\n",
      "Requirement already satisfied: jsonpointer>=1.9 in /home/will/miniconda3/envs/pyopenai/lib/python3.8/site-packages (from jsonpatch<2.0,>=1.33->langchain-core<0.3.0,>=0.2.43->langchain) (3.0.0)\n",
      "Requirement already satisfied: requests-toolbelt<2.0.0,>=1.0.0 in /home/will/miniconda3/envs/pyopenai/lib/python3.8/site-packages (from langsmith<0.2.0,>=0.1.17->langchain) (1.0.0)\n",
      "Requirement already satisfied: orjson<4.0.0,>=3.9.14 in /home/will/miniconda3/envs/pyopenai/lib/python3.8/site-packages (from langsmith<0.2.0,>=0.1.17->langchain) (3.10.15)\n",
      "Requirement already satisfied: urllib3<3,>=1.21.1 in /home/will/miniconda3/envs/pyopenai/lib/python3.8/site-packages (from requests<3,>=2->langchain) (1.26.8)\n",
      "Requirement already satisfied: greenlet!=0.4.17 in /home/will/miniconda3/envs/pyopenai/lib/python3.8/site-packages (from SQLAlchemy<3,>=1.4->langchain) (2.0.2)\n"
     ]
    }
   ],
   "source": [
    "!pip install openai langchain python-dotenv"
   ]
  },
  {
   "cell_type": "code",
   "execution_count": 5,
   "id": "cdca2046-3981-4da3-915d-f88aaa7392fc",
   "metadata": {},
   "outputs": [],
   "source": [
    "import os\n",
    "from dotenv import load_dotenv\n",
    "from openai import OpenAI"
   ]
  },
  {
   "cell_type": "code",
   "execution_count": 6,
   "id": "5b83c1ee-3a1c-46e9-aa00-92c33cfa81ff",
   "metadata": {},
   "outputs": [
    {
     "name": "stdout",
     "output_type": "stream",
     "text": [
      "False\n"
     ]
    }
   ],
   "source": [
    "#load env variables from .env file\n",
    "load_dotenv()\n",
    "openai_key = os.getenv(\"OPENAI_API_KEY\")\n",
    "print(openai_key == None)\n"
   ]
  },
  {
   "cell_type": "code",
   "execution_count": 13,
   "id": "2b2ace2e-3f30-4775-92bc-ce8803c2da72",
   "metadata": {},
   "outputs": [],
   "source": [
    "llm_name = \"gpt-3.5-turbo\""
   ]
  },
  {
   "cell_type": "code",
   "execution_count": 19,
   "id": "5d3c8835-328d-4a40-a956-46a0fccb657a",
   "metadata": {
    "tags": []
   },
   "outputs": [
    {
     "name": "stdout",
     "output_type": "stream",
     "text": [
      "Nelson Mandela was a South African anti-apartheid revolutionary, political leader, and philanthropist who served as President of South Africa from 1994 to 1999. He was the country's first black head of state and the first elected in a fully representative democratic election. Mandela is widely regarded as one of the most important figures in the fight against apartheid and for racial equality.\n"
     ]
    }
   ],
   "source": [
    "client = OpenAI(api_key=openai_key)\n",
    "response = client.chat.completions.create(\n",
    "    model=llm_name,\n",
    "    messages=[\n",
    "        {\"role\": \"system\", \"content\": \"You are a helpful assistant.\"},\n",
    "        {\"role\": \"user\", \"content\": \"who is Nelson Mandela?\"},\n",
    "    ],\n",
    ")\n",
    "print(response.choices[0].message.content)\n"
   ]
  },
  {
   "cell_type": "code",
   "execution_count": null,
   "id": "fe57afea-313d-438e-8807-3b2ee0deb2d2",
   "metadata": {},
   "outputs": [],
   "source": []
  }
 ],
 "metadata": {
  "kernelspec": {
   "display_name": "Python 3 (ipykernel)",
   "language": "python",
   "name": "python3"
  },
  "language_info": {
   "codemirror_mode": {
    "name": "ipython",
    "version": 3
   },
   "file_extension": ".py",
   "mimetype": "text/x-python",
   "name": "python",
   "nbconvert_exporter": "python",
   "pygments_lexer": "ipython3",
   "version": "3.8.13"
  }
 },
 "nbformat": 4,
 "nbformat_minor": 5
}
